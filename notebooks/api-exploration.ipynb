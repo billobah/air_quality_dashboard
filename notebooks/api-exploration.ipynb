{
 "cells": [
  {
   "cell_type": "code",
   "execution_count": 1,
   "metadata": {},
   "outputs": [],
   "source": [
    "import json\n",
    "\n",
    "from openaq import OpenAQ"
   ]
  },
  {
   "cell_type": "code",
   "execution_count": 2,
   "metadata": {},
   "outputs": [],
   "source": [
    "with open(\"../secrets.json\") as f:\n",
    "    secrets = json.load(f) # using json.load, it will be a python dictionary\n",
    "    f.close()\n",
    "\n",
    "openaq_key = secrets[\"openaq-api-key\"]"
   ]
  },
  {
   "cell_type": "code",
   "execution_count": 3,
   "metadata": {},
   "outputs": [
    {
     "data": {
      "text/plain": [
       "<openaq._sync.client.OpenAQ at 0x19e4332d6a0>"
      ]
     },
     "execution_count": 3,
     "metadata": {},
     "output_type": "execute_result"
    }
   ],
   "source": [
    "client = OpenAQ(api_key=openaq_key)\n",
    "\n",
    "client"
   ]
  },
  {
   "cell_type": "code",
   "execution_count": 8,
   "metadata": {},
   "outputs": [
    {
     "data": {
      "text/plain": [
       "Meta(name='openaq-api', website='/', page=1, limit=1000, found=47)"
      ]
     },
     "execution_count": 8,
     "metadata": {},
     "output_type": "execute_result"
    }
   ],
   "source": [
    "be_bbox_search_locations = client.locations.list(\n",
    "    bbox=(4.245186,50.762088,4.491005,50.915372),\n",
    "    limit=1000\n",
    ")\n",
    "\n",
    "be_bbox_search_locations.meta"
   ]
  },
  {
   "cell_type": "code",
   "execution_count": 9,
   "metadata": {},
   "outputs": [
    {
     "data": {
      "text/plain": [
       "{'id': 3448,\n",
       " 'name': 'BETMEU1',\n",
       " 'locality': 'Brussels-Capital Region',\n",
       " 'timezone': 'Europe/Brussels',\n",
       " 'country': CountryBase(id=60, code='BE', name='Belgium'),\n",
       " 'owner': OwnerBase(id=4, name='Unknown Governmental Organization'),\n",
       " 'provider': ProviderBase(id=172, name='EEA Belgium'),\n",
       " 'is_mobile': False,\n",
       " 'is_monitor': True,\n",
       " 'instruments': [InstrumentBase(id=2, name='Government Monitor')],\n",
       " 'sensors': [SensorBase(id=12351, name='no2 µg/m³', parameter=ParameterBase(id=5, name='no2', units='µg/m³', display_name='NO₂ mass')),\n",
       "  SensorBase(id=23662, name='o3 µg/m³', parameter=ParameterBase(id=3, name='o3', units='µg/m³', display_name='O₃ mass')),\n",
       "  SensorBase(id=12332, name='pm10 µg/m³', parameter=ParameterBase(id=1, name='pm10', units='µg/m³', display_name='PM10')),\n",
       "  SensorBase(id=7695, name='pm25 µg/m³', parameter=ParameterBase(id=2, name='pm25', units='µg/m³', display_name='PM2.5'))],\n",
       " 'coordinates': Coordinates(latitude=50.895101, longitude=4.392718),\n",
       " 'bounds': [4.392718, 50.895101, 4.392718, 50.895101],\n",
       " 'distance': None,\n",
       " 'datetime_first': Datetime(utc='2016-11-17T23:00:00Z', local='2016-11-18T00:00:00+01:00'),\n",
       " 'datetime_last': Datetime(utc='2024-01-29T20:00:00Z', local='2024-01-29T21:00:00+01:00')}"
      ]
     },
     "execution_count": 9,
     "metadata": {},
     "output_type": "execute_result"
    }
   ],
   "source": [
    "be_bbox_search_locations.results[0].__dict__  # print the data as a dictionary"
   ]
  },
  {
   "cell_type": "code",
   "execution_count": 10,
   "metadata": {},
   "outputs": [
    {
     "data": {
      "text/plain": [
       "{3448: 'BETMEU1',\n",
       " 4555: 'BETN043',\n",
       " 4833: 'BETR002',\n",
       " 4863: 'BETB011',\n",
       " 4866: 'BETB004',\n",
       " 4880: 'BETR010',\n",
       " 4897: 'BETWOL1',\n",
       " 4904: '41R012 - UCCLE',\n",
       " 4905: '47E013 - Vorst',\n",
       " 4908: '47E007 - Sint-Pieters-Leeuw',\n",
       " 4920: 'BETR001',\n",
       " 8138: '41B006 - PARL.EUROPE',\n",
       " 8139: 'BETB008',\n",
       " 2162116: '41R002 - IXELLES',\n",
       " 2162117: '41B008 - Brussel (Beliardstraat)',\n",
       " 2162118: '41R001 - MOLENBEEK',\n",
       " 2162119: 'BETVBX1 - Brussel (Rue de Grand Ile)',\n",
       " 2162120: '41B004 - STE.CATHERI',\n",
       " 2162121: '41B001 - BRUSSEL (Kunst-Wet)',\n",
       " 2162122: '41REG1 - BRUXELLES            ',\n",
       " 2162123: 'BETVBX2 - Brussel (Rue des Tanneurs)',\n",
       " 2162124: '41BUL1 - BRUXELLES',\n",
       " 2162125: '41B011 - BERCHEM S.A',\n",
       " 2162126: '41CHA1 - GANSHOREN',\n",
       " 2162127: '41N043 - HAREN',\n",
       " 2162128: '41MEU1 - MEUDON',\n",
       " 2162129: '41R002 - IXELLES',\n",
       " 2162130: '41B008 - Brussel (Beliardstraat)',\n",
       " 2162131: '41R001 - MOLENBEEK',\n",
       " 2162132: 'BETVBX1 - Brussel (Rue de Grand Ile)',\n",
       " 2162133: '41B004 - STE.CATHERI',\n",
       " 2162134: '41B001 - BRUSSEL (Kunst-Wet)',\n",
       " 2162135: '41REG1 - BRUXELLES            ',\n",
       " 2162136: 'BETVBX2 - Brussel (Rue des Tanneurs)',\n",
       " 2162137: '41BUL1 - BRUXELLES',\n",
       " 2162138: '41B011 - BERCHEM S.A',\n",
       " 2162139: '41CHA1 - GANSHOREN',\n",
       " 2162140: '41N043 - HAREN',\n",
       " 2162141: '41MEU1 - MEUDON',\n",
       " 2515834: 'BETVBX3 - Brussel (Rue de Laeken)',\n",
       " 2515835: 'BETVBX3 - Brussel (Rue de Laeken)',\n",
       " 2777553: None,\n",
       " 2777554: 'Quai de Mariemont Molenbeek 2',\n",
       " 2777555: None,\n",
       " 3024336: 'Anor Londo',\n",
       " 3028113: 'Farron',\n",
       " 3074818: 'fixe fin sans voiture'}"
      ]
     },
     "execution_count": 10,
     "metadata": {},
     "output_type": "execute_result"
    }
   ],
   "source": [
    "locations_info = {}\n",
    "\n",
    "for location in be_bbox_search_locations.results:\n",
    "    \n",
    "    locations_info[location.id] = location.name\n",
    "    \n",
    "locations_info"
   ]
  },
  {
   "cell_type": "code",
   "execution_count": 11,
   "metadata": {},
   "outputs": [
    {
     "data": {
      "text/plain": [
       "47"
      ]
     },
     "execution_count": 11,
     "metadata": {},
     "output_type": "execute_result"
    }
   ],
   "source": [
    "len(locations_info)"
   ]
  },
  {
   "cell_type": "code",
   "execution_count": 12,
   "metadata": {},
   "outputs": [],
   "source": [
    "with open(\"../locations.json\", \"w\", encoding=\"utf-8\") as f:\n",
    "    json.dump(locations_info, f, ensure_ascii=False, indent=4)\n",
    "    f.close()"
   ]
  }
 ],
 "metadata": {
  "kernelspec": {
   "display_name": ".venv",
   "language": "python",
   "name": "python3"
  },
  "language_info": {
   "codemirror_mode": {
    "name": "ipython",
    "version": 3
   },
   "file_extension": ".py",
   "mimetype": "text/x-python",
   "name": "python",
   "nbconvert_exporter": "python",
   "pygments_lexer": "ipython3",
   "version": "3.12.4"
  }
 },
 "nbformat": 4,
 "nbformat_minor": 2
}
